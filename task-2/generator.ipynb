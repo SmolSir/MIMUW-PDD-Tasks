{
 "cells": [
  {
   "cell_type": "code",
   "execution_count": null,
   "metadata": {},
   "outputs": [],
   "source": [
    "import argparse\n",
    "import json\n",
    "import random\n",
    "import threading\n",
    "import time\n",
    "\n",
    "from kafka import KafkaProducer\n",
    "\n",
    "STOP_EVENT = threading.Event()"
   ]
  },
  {
   "cell_type": "code",
   "execution_count": null,
   "metadata": {},
   "outputs": [],
   "source": [
    "def stream_1_generator():\n",
    "    index = 0\n",
    "    while True:\n",
    "        index += 1\n",
    "        if random.uniform(0, 1) < 0.05:\n",
    "            continue\n",
    "        yield (index, random.uniform(0, 1))\n",
    "\n",
    "\n",
    "def stream_2_generator():\n",
    "    break_point = 300_000\n",
    "    index = 0\n",
    "    while index < break_point:\n",
    "        index += 1\n",
    "        if random.uniform(0, 1) < 0.1:\n",
    "            continue\n",
    "        yield (index, random.gauss(2, 1))\n",
    "    while index < break_point * 2:\n",
    "        index += 1\n",
    "        if random.uniform(0, 1) < (index - break_point)/break_point:\n",
    "            yield (index, random.uniform(0, 1))\n",
    "        else:\n",
    "            yield (index, random.gauss(2, 1))\n",
    "\n",
    "    while True:\n",
    "        index += 1\n",
    "        if random.uniform(0, 1) < 0.01:\n",
    "            continue\n",
    "        yield (index, random.uniform(0, 1))\n",
    "\n",
    "\n",
    "\n",
    "def producer(topic: str, stream_generator, server: str):\n",
    "    producer = KafkaProducer(bootstrap_servers='localhost:9092', value_serializer=lambda v: json.dumps(v).encode('utf-8'))\n",
    "    gen = stream_generator()\n",
    "    while not STOP_EVENT.is_set():\n",
    "        time_point, value = next(gen)\n",
    "        # print(f\"Sending {time_point} {value} to {topic}\")\n",
    "        producer.send(topic, {\"time_point\": time_point, \"value\": value})\n"
   ]
  },
  {
   "cell_type": "code",
   "execution_count": null,
   "metadata": {},
   "outputs": [],
   "source": [
    "def main():\n",
    "    parser = argparse.ArgumentParser()\n",
    "    parser.add_argument(\"--topic1\", type=str, default=\"topic1\")\n",
    "    parser.add_argument(\"--topic2\", type=str, default=\"topic2\")\n",
    "    parser.add_argument(\"--bootstrap_server\", type=str, default=\"localhost:9092\")\n",
    "    args = parser.parse_args()\n",
    "\n",
    "    producer1 = threading.Thread(target=producer, args=(args.topic1, stream_1_generator, args.bootstrap_server))\n",
    "    producer2 = threading.Thread(target=producer, args=(args.topic2, stream_2_generator, args.bootstrap_server))\n",
    "\n",
    "    producer1.start()\n",
    "    producer2.start()\n",
    "\n",
    "    try:\n",
    "        while True:\n",
    "            time.sleep(1)\n",
    "    except KeyboardInterrupt:\n",
    "        pass\n",
    "    finally:\n",
    "        STOP_EVENT.set()\n",
    "        producer1.join()\n",
    "        producer2.join()\n",
    "\n",
    "if __name__ == '__main__':\n",
    "    main()"
   ]
  }
 ],
 "metadata": {
  "language_info": {
   "name": "python"
  }
 },
 "nbformat": 4,
 "nbformat_minor": 2
}
