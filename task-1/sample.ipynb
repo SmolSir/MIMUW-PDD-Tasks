{
 "cells": [
  {
   "cell_type": "markdown",
   "metadata": {},
   "source": [
    "# Copy N random files from `data` to `sample`"
   ]
  },
  {
   "cell_type": "code",
   "execution_count": null,
   "metadata": {},
   "outputs": [],
   "source": [
    "import os\n",
    "import random\n",
    "import shutil"
   ]
  },
  {
   "cell_type": "code",
   "execution_count": null,
   "metadata": {},
   "outputs": [],
   "source": [
    "# Number of files to copy\n",
    "N = 1000\n",
    "\n",
    "# Paths\n",
    "data_dir   = \"data\"\n",
    "sample_dir = \"sample\""
   ]
  },
  {
   "cell_type": "code",
   "execution_count": null,
   "metadata": {},
   "outputs": [],
   "source": [
    "os.removedirs(sample_dir)\n",
    "os.makedirs(sample_dir)\n",
    "\n",
    "file_list   = os.listdir(data_dir)\n",
    "sample_list = random.sample(file_list, min(N, len(file_list)))\n",
    "\n",
    "for f in sample_list:\n",
    "    src_path = os.path.join(data_dir, f)\n",
    "    dst_path = os.path.join(sample_dir, f)\n",
    "    shutil.copy2(src_path, dst_path)\n",
    "    print(f\"Copied {f} from {data_dir} to {sample_dir}\")"
   ]
  }
 ],
 "metadata": {
  "language_info": {
   "name": "python"
  }
 },
 "nbformat": 4,
 "nbformat_minor": 2
}
